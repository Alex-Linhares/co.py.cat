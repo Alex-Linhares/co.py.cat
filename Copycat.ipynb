{
 "cells": [
  {
   "cell_type": "markdown",
   "metadata": {},
   "source": [
    "# Copycat \n",
    "\n",
    "Just type your copycat example, and the number of iterations."
   ]
  },
  {
   "cell_type": "code",
   "execution_count": 17,
   "metadata": {},
   "outputs": [
    {
     "name": "stdout",
     "output_type": "stream",
     "text": [
      "Answered iiijjjlll (time 828, final temperature 16.5)\n",
      "Answered iiijjjkkl (time 1439, final temperature 44.2)\n",
      "Answered iiijjjkkl (time 1260, final temperature 19.9)\n",
      "Answered iiijjjkkl (time 485, final temperature 19.3)\n",
      "Answered iiijjjlll (time 1712, final temperature 16.5)\n",
      "Answered iiijjjlll (time 623, final temperature 20.7)\n",
      "Answered iiijjjlll (time 855, final temperature 40.6)\n",
      "Answered iiijjjkkl (time 1305, final temperature 43.6)\n",
      "Answered iiijjjkkl (time 1340, final temperature 17.7)\n",
      "Answered iiijjjlll (time 759, final temperature 43.9)\n",
      "Answered iiijjjkkl (time 852, final temperature 34.6)\n",
      "Answered iiijjjlll (time 1060, final temperature 21.5)\n",
      "Answered iiijjjkkl (time 1560, final temperature 47.6)\n",
      "Answered iiijjjkkl (time 732, final temperature 23.2)\n",
      "Answered iiijjjkkl (time 561, final temperature 17.7)\n",
      "Answered iiijjjlll (time 2164, final temperature 25.5)\n",
      "Answered iiijjjlll (time 1409, final temperature 20.8)\n",
      "Answered iiijjjkkl (time 550, final temperature 55.0)\n",
      "Answered iiijjjlll (time 714, final temperature 21.7)\n",
      "Answered iiijjjlll (time 1563, final temperature 21.2)\n",
      "iiijjjlll: 10 (avg time 1168.7, avg temp 24.9)\n",
      "iiijjjkkl: 10 (avg time 1008.4, avg temp 32.3)\n"
     ]
    }
   ],
   "source": [
    "%run main.py abc abd iiijjjkkk --iterations 20"
   ]
  },
  {
   "cell_type": "code",
   "execution_count": null,
   "metadata": {
    "collapsed": true
   },
   "outputs": [],
   "source": []
  }
 ],
 "metadata": {
  "kernelspec": {
   "display_name": "Python 3",
   "language": "python",
   "name": "python3"
  },
  "language_info": {
   "codemirror_mode": {
    "name": "ipython",
    "version": 3
   },
   "file_extension": ".py",
   "mimetype": "text/x-python",
   "name": "python",
   "nbconvert_exporter": "python",
   "pygments_lexer": "ipython3",
   "version": "3.6.1"
  }
 },
 "nbformat": 4,
 "nbformat_minor": 2
}
